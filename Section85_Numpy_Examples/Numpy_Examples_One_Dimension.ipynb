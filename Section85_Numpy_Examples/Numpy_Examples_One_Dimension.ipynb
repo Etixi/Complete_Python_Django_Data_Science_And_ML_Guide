{
 "cells": [
  {
   "cell_type": "code",
   "execution_count": 1,
   "id": "b9e6d5dd-2323-4c69-96b7-e593eab7ef0e",
   "metadata": {},
   "outputs": [],
   "source": [
    "import numpy as np"
   ]
  },
  {
   "cell_type": "code",
   "execution_count": 3,
   "id": "1433e364-c53b-4f33-bbe9-6cb33a86992e",
   "metadata": {},
   "outputs": [
    {
     "name": "stdout",
     "output_type": "stream",
     "text": [
      "1.24.3\n"
     ]
    }
   ],
   "source": [
    "print(f\"{np.__version__}\")"
   ]
  },
  {
   "cell_type": "markdown",
   "id": "1227e355-6814-4290-8282-24b16c9f5f23",
   "metadata": {},
   "source": [
    "# **Example 1 : Calculating Total Revenue**"
   ]
  },
  {
   "cell_type": "code",
   "execution_count": 4,
   "id": "41d149b5-3757-4b26-a29d-1c391525953c",
   "metadata": {},
   "outputs": [
    {
     "data": {
      "text/plain": [
       "array([19.99, 29.99, 14.99,  9.99, 24.99])"
      ]
     },
     "execution_count": 4,
     "metadata": {},
     "output_type": "execute_result"
    }
   ],
   "source": [
    "prices = np.array([19.99, 29.99, 14.99, 9.99, 24.99])\n",
    "prices"
   ]
  },
  {
   "cell_type": "code",
   "execution_count": 5,
   "id": "592d4533-4ee8-45c9-83f0-1ff621db7a1d",
   "metadata": {},
   "outputs": [
    {
     "data": {
      "text/plain": [
       "array([10,  5,  8, 12,  3])"
      ]
     },
     "execution_count": 5,
     "metadata": {},
     "output_type": "execute_result"
    }
   ],
   "source": [
    "quantiles = np.array([10, 5, 8, 12, 3])\n",
    "quantiles"
   ]
  },
  {
   "cell_type": "code",
   "execution_count": 6,
   "id": "95f4aa78-ea2a-4c36-9360-4a16e90ad13b",
   "metadata": {},
   "outputs": [
    {
     "data": {
      "text/plain": [
       "array([199.9 , 149.95, 119.92, 119.88,  74.97])"
      ]
     },
     "execution_count": 6,
     "metadata": {},
     "output_type": "execute_result"
    }
   ],
   "source": [
    "revenue_per_product = prices * quantiles\n",
    "revenue_per_product"
   ]
  },
  {
   "cell_type": "code",
   "execution_count": 8,
   "id": "5026deaa-69b6-4a19-96e7-041aa07fb924",
   "metadata": {},
   "outputs": [
    {
     "data": {
      "text/plain": [
       "664.62"
      ]
     },
     "execution_count": 8,
     "metadata": {},
     "output_type": "execute_result"
    }
   ],
   "source": [
    "total_revenue = np.sum(revenue_per_product)\n",
    "total_revenue"
   ]
  },
  {
   "cell_type": "markdown",
   "id": "bf5209d1-adfa-4b8e-b1ed-fde7e04d2bee",
   "metadata": {},
   "source": [
    "# **Example 2: Analyzing Blog Post Stats**"
   ]
  },
  {
   "cell_type": "code",
   "execution_count": 9,
   "id": "b61e13f5-1754-484c-9adf-b3df3fdb67e1",
   "metadata": {},
   "outputs": [
    {
     "data": {
      "text/plain": [
       "array([1000,  500,  800, 1200,  300,  600])"
      ]
     },
     "execution_count": 9,
     "metadata": {},
     "output_type": "execute_result"
    }
   ],
   "source": [
    "views = np.array([1000, 500, 800, 1200, 300, 600])\n",
    "views"
   ]
  },
  {
   "cell_type": "code",
   "execution_count": 11,
   "id": "11707dbf-6be8-4d29-a6e9-bd27ed6fc957",
   "metadata": {},
   "outputs": [
    {
     "data": {
      "text/plain": [
       "1200"
      ]
     },
     "execution_count": 11,
     "metadata": {},
     "output_type": "execute_result"
    }
   ],
   "source": [
    "max_views = np.max(views)\n",
    "max_views"
   ]
  },
  {
   "cell_type": "code",
   "execution_count": 12,
   "id": "ed4e7c4a-0801-4ff1-9243-dbc6ed51ff4f",
   "metadata": {},
   "outputs": [
    {
     "data": {
      "text/plain": [
       "300"
      ]
     },
     "execution_count": 12,
     "metadata": {},
     "output_type": "execute_result"
    }
   ],
   "source": [
    "min_views = np.min(views)\n",
    "min_views"
   ]
  },
  {
   "cell_type": "code",
   "execution_count": 14,
   "id": "09987caf-1edd-4f90-a157-61ab5af420ab",
   "metadata": {},
   "outputs": [
    {
     "data": {
      "text/plain": [
       "733.33"
      ]
     },
     "execution_count": 14,
     "metadata": {},
     "output_type": "execute_result"
    }
   ],
   "source": [
    "average_views = np.round(np.mean(views), 2)\n",
    "average_views"
   ]
  },
  {
   "cell_type": "code",
   "execution_count": 15,
   "id": "92e90f20-825d-4a52-a180-ef50ec008eba",
   "metadata": {},
   "outputs": [
    {
     "data": {
      "text/plain": [
       "4400"
      ]
     },
     "execution_count": 15,
     "metadata": {},
     "output_type": "execute_result"
    }
   ],
   "source": [
    "total_views = np.sum(views)\n",
    "total_views"
   ]
  },
  {
   "cell_type": "markdown",
   "id": "6a4b46d8-b659-4e92-b835-fb736b5b30c4",
   "metadata": {},
   "source": [
    "# **Example 3 : Splitting Order into Batches**"
   ]
  },
  {
   "cell_type": "code",
   "execution_count": 23,
   "id": "87753d39-c499-4a7e-beb1-bc6e809ef3e7",
   "metadata": {},
   "outputs": [
    {
     "data": {
      "text/plain": [
       "array([1001, 1002, 1003, 1004, 1005, 1006, 1007, 1008])"
      ]
     },
     "execution_count": 23,
     "metadata": {},
     "output_type": "execute_result"
    }
   ],
   "source": [
    "order_ids = np.array([1001, 1002, 1003, 1004, 1005, 1006, 1007, 1008])\n",
    "order_ids"
   ]
  },
  {
   "cell_type": "code",
   "execution_count": 24,
   "id": "85699e9d-ffa1-4c2a-998f-3993fb14dd5b",
   "metadata": {},
   "outputs": [
    {
     "data": {
      "text/plain": [
       "[array([1001, 1002, 1003, 1004]), array([1005, 1006, 1007, 1008])]"
      ]
     },
     "execution_count": 24,
     "metadata": {},
     "output_type": "execute_result"
    }
   ],
   "source": [
    "batches = np.split(order_ids, 2)\n",
    "batches"
   ]
  },
  {
   "cell_type": "code",
   "execution_count": 25,
   "id": "639e66ac-5aae-4f23-850c-86bc6903594f",
   "metadata": {},
   "outputs": [
    {
     "data": {
      "text/plain": [
       "[array([1001, 1002]),\n",
       " array([1003, 1004]),\n",
       " array([1005, 1006]),\n",
       " array([1007, 1008])]"
      ]
     },
     "execution_count": 25,
     "metadata": {},
     "output_type": "execute_result"
    }
   ],
   "source": [
    "batches = np.split(order_ids, 4)\n",
    "batches"
   ]
  },
  {
   "cell_type": "code",
   "execution_count": 26,
   "id": "57ee033c-176b-4dee-adae-6bd7eddd7ecc",
   "metadata": {},
   "outputs": [
    {
     "name": "stdout",
     "output_type": "stream",
     "text": [
      "[1001 1002]\n",
      "[1003 1004]\n",
      "[1005 1006]\n",
      "[1007 1008]\n"
     ]
    }
   ],
   "source": [
    "for batch in batches:\n",
    "    print(batch)"
   ]
  },
  {
   "cell_type": "markdown",
   "id": "0039b50f-9787-42f9-bce5-615119b8b1d4",
   "metadata": {},
   "source": [
    "# **Example 4 : Categorizing Product Rating**"
   ]
  },
  {
   "cell_type": "code",
   "execution_count": 27,
   "id": "27b8732e-678f-4079-88a7-fd82b13132d4",
   "metadata": {},
   "outputs": [
    {
     "data": {
      "text/plain": [
       "array([4.5, 3.2, 2.8, 5. , 4.1, 3.9, 2.5, 4.7])"
      ]
     },
     "execution_count": 27,
     "metadata": {},
     "output_type": "execute_result"
    }
   ],
   "source": [
    "ratings = np.array([4.5, 3.2, 2.8, 5.0, 4.1, 3.9, 2.5, 4.7])\n",
    "ratings"
   ]
  },
  {
   "cell_type": "code",
   "execution_count": 28,
   "id": "2be56585-a294-4e2e-9709-6f5b7e388f0e",
   "metadata": {},
   "outputs": [
    {
     "data": {
      "text/plain": [
       "array([4.5, 5. , 4.1, 4.7])"
      ]
     },
     "execution_count": 28,
     "metadata": {},
     "output_type": "execute_result"
    }
   ],
   "source": [
    "positive_ratings = ratings[ratings >= 4.0]\n",
    "positive_ratings"
   ]
  },
  {
   "cell_type": "code",
   "execution_count": 29,
   "id": "1ad032d1-854a-4b12-8c9b-7bd72a61d7b7",
   "metadata": {},
   "outputs": [
    {
     "data": {
      "text/plain": [
       "array([3.2, 2.8, 3.9, 2.5])"
      ]
     },
     "execution_count": 29,
     "metadata": {},
     "output_type": "execute_result"
    }
   ],
   "source": [
    "negative_ratings = ratings[ratings < 4.0]\n",
    "negative_ratings"
   ]
  },
  {
   "cell_type": "markdown",
   "id": "9608e118-d749-414a-99fc-ab7543584f43",
   "metadata": {},
   "source": [
    "# **Example 5 : Calculate Total And Average quantiles sold**"
   ]
  },
  {
   "cell_type": "code",
   "execution_count": 30,
   "id": "c83fe5a6-cd3d-4650-a8e4-d9477e4279a8",
   "metadata": {},
   "outputs": [
    {
     "data": {
      "text/plain": [
       "array([[ 5,  3,  2,  7],\n",
       "       [10,  6,  3,  9]])"
      ]
     },
     "execution_count": 30,
     "metadata": {},
     "output_type": "execute_result"
    }
   ],
   "source": [
    "# Each column is specific\n",
    "# Each row represents specific order\n",
    "\n",
    "order_quantiles = np.array([[5, 3, 2, 7], [10, 6, 3, 9]])\n",
    "order_quantiles"
   ]
  },
  {
   "cell_type": "code",
   "execution_count": 31,
   "id": "f1c66cbb-a9f4-4419-9066-55b287ac59d6",
   "metadata": {},
   "outputs": [
    {
     "data": {
      "text/plain": [
       "45"
      ]
     },
     "execution_count": 31,
     "metadata": {},
     "output_type": "execute_result"
    }
   ],
   "source": [
    "total_quantiles_sold = np.sum(order_quantiles)\n",
    "total_quantiles_sold"
   ]
  },
  {
   "cell_type": "code",
   "execution_count": 32,
   "id": "5db69105-e2ec-4dbb-8081-113249465189",
   "metadata": {},
   "outputs": [
    {
     "data": {
      "text/plain": [
       "array([15,  9,  5, 16])"
      ]
     },
     "execution_count": 32,
     "metadata": {},
     "output_type": "execute_result"
    }
   ],
   "source": [
    "# Quantiles of the sales of each product\n",
    "total_quantiles_per_product = np.sum(order_quantiles, axis = 0)\n",
    "total_quantiles_per_product"
   ]
  },
  {
   "cell_type": "code",
   "execution_count": 33,
   "id": "91f8fd1f-d2cd-4d48-864c-a8cb1809c960",
   "metadata": {},
   "outputs": [
    {
     "data": {
      "text/plain": [
       "array([17, 28])"
      ]
     },
     "execution_count": 33,
     "metadata": {},
     "output_type": "execute_result"
    }
   ],
   "source": [
    "# Quantiles of the sales in each order\n",
    "total_quantiles_per_order = np.sum(order_quantiles, axis = 1)\n",
    "total_quantiles_per_order"
   ]
  },
  {
   "cell_type": "code",
   "execution_count": 34,
   "id": "38e34014-6fc0-444c-8e50-331ff81a5215",
   "metadata": {},
   "outputs": [
    {
     "data": {
      "text/plain": [
       "array([7.5, 4.5, 2.5, 8. ])"
      ]
     },
     "execution_count": 34,
     "metadata": {},
     "output_type": "execute_result"
    }
   ],
   "source": [
    "# Average quantiles per product\n",
    "average_quantiles_per_product = np.mean(order_quantiles, axis = 0)\n",
    "average_quantiles_per_product "
   ]
  },
  {
   "cell_type": "markdown",
   "id": "dd6495ab-2929-47e5-936f-6f0223040b20",
   "metadata": {},
   "source": [
    "# **Example 6 : Calculate Average product Rating and Maximum rating per Category**"
   ]
  },
  {
   "cell_type": "code",
   "execution_count": 35,
   "id": "14aad534-8da3-4c4f-b086-a02e969853eb",
   "metadata": {},
   "outputs": [
    {
     "data": {
      "text/plain": [
       "array([[4.5, 3.2, 2.5, 5. ],\n",
       "       [4.3, 3.8, 1. , 4.8],\n",
       "       [2. , 3.6, 4.7, 0.5]])"
      ]
     },
     "execution_count": 35,
     "metadata": {},
     "output_type": "execute_result"
    }
   ],
   "source": [
    "# Each row represents specific product\n",
    "# Each product is rated in 4 different categories\n",
    "\n",
    "product_reviews = np.array([[4.5, 3.2, 2.5, 5.0], [4.3, 3.8, 1.0, 4.8], [2.0, 3.6, 4.7, 0.5]])\n",
    "product_reviews"
   ]
  },
  {
   "cell_type": "code",
   "execution_count": 36,
   "id": "2ee6e05c-bc76-4cb5-80ac-fd090ff072b5",
   "metadata": {},
   "outputs": [
    {
     "data": {
      "text/plain": [
       "array([3.8  , 3.475, 2.7  ])"
      ]
     },
     "execution_count": 36,
     "metadata": {},
     "output_type": "execute_result"
    }
   ],
   "source": [
    "average_rating = np.mean(product_reviews, axis = 1)\n",
    "average_rating"
   ]
  },
  {
   "cell_type": "code",
   "execution_count": 37,
   "id": "76afea02-935b-4104-aaa6-53a5f431308a",
   "metadata": {},
   "outputs": [
    {
     "data": {
      "text/plain": [
       "array([4.5, 3.8, 4.7, 5. ])"
      ]
     },
     "execution_count": 37,
     "metadata": {},
     "output_type": "execute_result"
    }
   ],
   "source": [
    "max_rating_per_category = np.max(product_reviews, axis=0)\n",
    "max_rating_per_category"
   ]
  },
  {
   "cell_type": "markdown",
   "id": "8869c796-6d8c-44c6-9c6b-6ace1ffce266",
   "metadata": {},
   "source": [
    "# **Example 7 : Generation of the sample stock data**"
   ]
  },
  {
   "cell_type": "code",
   "execution_count": 49,
   "id": "05ecd215-611f-459a-acab-fcfe5648ef53",
   "metadata": {},
   "outputs": [],
   "source": [
    "companies = ['Google', 'Microsoft', 'Apple']\n",
    "days = ['Monday, 1 Apr', 'Tuesday, 2 Apr']\n",
    "price_types = ['Open', 'Close', 'High', 'Low']"
   ]
  },
  {
   "cell_type": "code",
   "execution_count": 50,
   "id": "21948d1a-0b9a-4245-bfbb-535ec1bfccba",
   "metadata": {},
   "outputs": [
    {
     "data": {
      "text/plain": [
       "array([[[0.417, 0.72 , 0.   , 0.302],\n",
       "        [0.147, 0.092, 0.186, 0.346]],\n",
       "\n",
       "       [[0.397, 0.539, 0.419, 0.685],\n",
       "        [0.204, 0.878, 0.027, 0.67 ]],\n",
       "\n",
       "       [[0.417, 0.559, 0.14 , 0.198],\n",
       "        [0.801, 0.968, 0.313, 0.692]]])"
      ]
     },
     "execution_count": 50,
     "metadata": {},
     "output_type": "execute_result"
    }
   ],
   "source": [
    "np.random.seed(1)\n",
    "stock_prices = np.round(np.random.random((len(companies), len(days), len(price_types))), 3)\n",
    "stock_prices"
   ]
  },
  {
   "cell_type": "code",
   "execution_count": 52,
   "id": "751e9449-708b-4dd3-bf3a-786c691d0437",
   "metadata": {},
   "outputs": [
    {
     "data": {
      "text/plain": [
       "(3, 2, 4)"
      ]
     },
     "execution_count": 52,
     "metadata": {},
     "output_type": "execute_result"
    }
   ],
   "source": [
    "stock_prices.shape"
   ]
  },
  {
   "cell_type": "code",
   "execution_count": 53,
   "id": "b2661262-4f84-43ab-a7c7-b04b4a9bb38e",
   "metadata": {},
   "outputs": [
    {
     "name": "stdout",
     "output_type": "stream",
     "text": [
      "Stock prices for the Google:\n",
      "Day : Monday, 1 Apr\n",
      "Open Price: 0.417\n",
      "Close Price: 0.72\n",
      "High Price: 0.0\n",
      "Low Price: 0.302\n",
      "\n",
      "Day : Tuesday, 2 Apr\n",
      "Open Price: 0.147\n",
      "Close Price: 0.092\n",
      "High Price: 0.186\n",
      "Low Price: 0.346\n",
      "\n",
      "\n",
      "Stock prices for the Microsoft:\n",
      "Day : Monday, 1 Apr\n",
      "Open Price: 0.397\n",
      "Close Price: 0.539\n",
      "High Price: 0.419\n",
      "Low Price: 0.685\n",
      "\n",
      "Day : Tuesday, 2 Apr\n",
      "Open Price: 0.204\n",
      "Close Price: 0.878\n",
      "High Price: 0.027\n",
      "Low Price: 0.67\n",
      "\n",
      "\n",
      "Stock prices for the Apple:\n",
      "Day : Monday, 1 Apr\n",
      "Open Price: 0.417\n",
      "Close Price: 0.559\n",
      "High Price: 0.14\n",
      "Low Price: 0.198\n",
      "\n",
      "Day : Tuesday, 2 Apr\n",
      "Open Price: 0.801\n",
      "Close Price: 0.968\n",
      "High Price: 0.313\n",
      "Low Price: 0.692\n",
      "\n",
      "\n"
     ]
    }
   ],
   "source": [
    "for index_axis_0, company in enumerate(companies):\n",
    "    print(f\"Stock prices for the {company}:\")\n",
    "    for index_axis_1, day in enumerate(days):\n",
    "        print(f\"Day : {day}\")\n",
    "        for index_axis_2, price_type in enumerate(price_types):\n",
    "            print(f\"{price_type} Price: {stock_prices[index_axis_0, index_axis_1, index_axis_2]}\")\n",
    "        print('')\n",
    "    print('')\n",
    "    "
   ]
  },
  {
   "cell_type": "code",
   "execution_count": null,
   "id": "92305953-029b-4142-a58f-78152933bbb3",
   "metadata": {},
   "outputs": [],
   "source": []
  }
 ],
 "metadata": {
  "kernelspec": {
   "display_name": "Python 3 (ipykernel)",
   "language": "python",
   "name": "python3"
  },
  "language_info": {
   "codemirror_mode": {
    "name": "ipython",
    "version": 3
   },
   "file_extension": ".py",
   "mimetype": "text/x-python",
   "name": "python",
   "nbconvert_exporter": "python",
   "pygments_lexer": "ipython3",
   "version": "3.11.3"
  }
 },
 "nbformat": 4,
 "nbformat_minor": 5
}
