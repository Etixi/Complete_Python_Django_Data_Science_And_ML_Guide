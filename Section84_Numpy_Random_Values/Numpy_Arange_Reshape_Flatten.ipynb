{
 "cells": [
  {
   "cell_type": "code",
   "execution_count": 1,
   "id": "744a92d2-67e5-48b9-9138-e7db3a46e486",
   "metadata": {},
   "outputs": [],
   "source": [
    "import numpy as np"
   ]
  },
  {
   "cell_type": "code",
   "execution_count": 3,
   "id": "4c6d8713-56ec-48db-8d95-bed12fbb23bb",
   "metadata": {},
   "outputs": [
    {
     "name": "stdout",
     "output_type": "stream",
     "text": [
      "1.24.3\n"
     ]
    }
   ],
   "source": [
    "print(f\"{np.__version__}\")\n",
    "      "
   ]
  },
  {
   "cell_type": "code",
   "execution_count": 4,
   "id": "ceee4eac-58b5-4d50-b865-30e516b68462",
   "metadata": {},
   "outputs": [
    {
     "data": {
      "text/plain": [
       "array([2, 5, 8])"
      ]
     },
     "execution_count": 4,
     "metadata": {},
     "output_type": "execute_result"
    }
   ],
   "source": [
    "np.arange(2, 10, 3)"
   ]
  },
  {
   "cell_type": "code",
   "execution_count": 5,
   "id": "3ae97b49-fdf2-4387-86ca-5db3d1e664f0",
   "metadata": {},
   "outputs": [
    {
     "data": {
      "text/plain": [
       "array([10, 11, 12, 13, 14])"
      ]
     },
     "execution_count": 5,
     "metadata": {},
     "output_type": "execute_result"
    }
   ],
   "source": [
    "np.arange(10, 15)"
   ]
  },
  {
   "cell_type": "code",
   "execution_count": 6,
   "id": "fbd1f38d-cea8-41b7-9b34-b4a0a702f08f",
   "metadata": {},
   "outputs": [
    {
     "data": {
      "text/plain": [
       "array([ 0,  1,  2,  3,  4,  5,  6,  7,  8,  9, 10, 11, 12, 13, 14, 15, 16,\n",
       "       17, 18, 19])"
      ]
     },
     "execution_count": 6,
     "metadata": {},
     "output_type": "execute_result"
    }
   ],
   "source": [
    "np.arange(20)"
   ]
  },
  {
   "cell_type": "code",
   "execution_count": 7,
   "id": "006e33b1-9eb4-49de-9258-d37ff708f245",
   "metadata": {},
   "outputs": [
    {
     "data": {
      "text/plain": [
       "array([[ 0,  1,  2,  3,  4,  5,  6,  7,  8,  9],\n",
       "       [10, 11, 12, 13, 14, 15, 16, 17, 18, 19]])"
      ]
     },
     "execution_count": 7,
     "metadata": {},
     "output_type": "execute_result"
    }
   ],
   "source": [
    "np.arange(20).reshape([2, 10])"
   ]
  },
  {
   "cell_type": "code",
   "execution_count": 8,
   "id": "9bf21cc5-87e5-4d16-b071-7f4cc74eb394",
   "metadata": {},
   "outputs": [
    {
     "data": {
      "text/plain": [
       "array([[[ 0,  1,  2,  3,  4],\n",
       "        [ 5,  6,  7,  8,  9]],\n",
       "\n",
       "       [[10, 11, 12, 13, 14],\n",
       "        [15, 16, 17, 18, 19]]])"
      ]
     },
     "execution_count": 8,
     "metadata": {},
     "output_type": "execute_result"
    }
   ],
   "source": [
    "np.arange(20).reshape([2, 2, 5])"
   ]
  },
  {
   "cell_type": "code",
   "execution_count": 9,
   "id": "bf3bb906-c14f-4d29-8d62-199d85100218",
   "metadata": {},
   "outputs": [
    {
     "data": {
      "text/plain": [
       "array([[10,  2,  5,  7,  9],\n",
       "       [15, 25, 30, 35, 40]])"
      ]
     },
     "execution_count": 9,
     "metadata": {},
     "output_type": "execute_result"
    }
   ],
   "source": [
    "np.array([10, 2, 5, 7, 9, 15, 25, 30, 35, 40]).reshape([2, 5])"
   ]
  },
  {
   "cell_type": "code",
   "execution_count": 11,
   "id": "a2b2f806-ca9d-4a46-a9c1-41038453b3ba",
   "metadata": {},
   "outputs": [
    {
     "data": {
      "text/plain": [
       "array([[10],\n",
       "       [ 2],\n",
       "       [ 5],\n",
       "       [ 7],\n",
       "       [ 9],\n",
       "       [15],\n",
       "       [25],\n",
       "       [30],\n",
       "       [35],\n",
       "       [40]])"
      ]
     },
     "execution_count": 11,
     "metadata": {},
     "output_type": "execute_result"
    }
   ],
   "source": [
    "np.array([10, 2, 5, 7, 9, 15, 25, 30, 35, 40]).reshape([2, 5]).reshape([10, 1])"
   ]
  },
  {
   "cell_type": "code",
   "execution_count": 12,
   "id": "f6a5cc14-e1ae-42d4-ab07-31edd51fb2be",
   "metadata": {},
   "outputs": [
    {
     "data": {
      "text/plain": [
       "array([[[9.38848030e-01, 1.71922600e-01, 4.94944787e-01],\n",
       "        [6.49925871e-01, 5.09469789e-01, 2.92666097e-02],\n",
       "        [2.59019400e-02, 6.88636998e-06, 8.85774160e-01]],\n",
       "\n",
       "       [[1.50070411e-02, 8.85003816e-01, 1.13171612e-01],\n",
       "        [2.12422797e-01, 1.86003865e-01, 9.47368195e-01],\n",
       "        [2.08330123e-01, 4.52549464e-01, 6.23901878e-01]],\n",
       "\n",
       "       [[8.33832301e-03, 1.76976455e-01, 1.52037417e-01],\n",
       "        [2.86670493e-01, 2.39144978e-01, 5.66232666e-02],\n",
       "        [7.17034871e-01, 3.81126252e-01, 4.97008274e-01]],\n",
       "\n",
       "       [[6.85013521e-01, 2.95085144e-01, 4.58713657e-01],\n",
       "        [3.88556256e-01, 2.02877166e-01, 1.60017185e-01],\n",
       "        [5.38529927e-01, 7.45546050e-01, 6.23326719e-01]]])"
      ]
     },
     "execution_count": 12,
     "metadata": {},
     "output_type": "execute_result"
    }
   ],
   "source": [
    "np.random.random((4, 3, 3))"
   ]
  },
  {
   "cell_type": "code",
   "execution_count": 13,
   "id": "e6af79f5-7994-424a-a512-e0c2c4b9ee61",
   "metadata": {},
   "outputs": [
    {
     "data": {
      "text/plain": [
       "array([0.63945705, 0.6850007 , 0.19946971, 0.67279952, 0.50872372,\n",
       "       0.18492283, 0.31232868, 0.03158207, 0.4946423 , 0.74317211,\n",
       "       0.48532056, 0.12868548, 0.83681179, 0.80844259, 0.0709103 ,\n",
       "       0.78065568, 0.02062113, 0.62139038, 0.06985723, 0.58695835,\n",
       "       0.70198389, 0.03782114, 0.94361762, 0.26042036, 0.99316921,\n",
       "       0.46937445, 0.26440738, 0.80799486, 0.5928013 , 0.55850639,\n",
       "       0.67884852, 0.45038716, 0.37557263, 0.34921872, 0.99742122,\n",
       "       0.99718488])"
      ]
     },
     "execution_count": 13,
     "metadata": {},
     "output_type": "execute_result"
    }
   ],
   "source": [
    "np.random.random((4, 3, 3)).flatten()"
   ]
  },
  {
   "cell_type": "code",
   "execution_count": 14,
   "id": "7f2b8416-a24d-442f-81a5-9f40b2f075cb",
   "metadata": {},
   "outputs": [
    {
     "data": {
      "text/plain": [
       "(36,)"
      ]
     },
     "execution_count": 14,
     "metadata": {},
     "output_type": "execute_result"
    }
   ],
   "source": [
    "np.random.random((4, 3, 3)).flatten().shape"
   ]
  },
  {
   "cell_type": "code",
   "execution_count": null,
   "id": "fd0505c2-3995-4b80-b8cb-43007bad382a",
   "metadata": {},
   "outputs": [],
   "source": []
  }
 ],
 "metadata": {
  "kernelspec": {
   "display_name": "Python 3 (ipykernel)",
   "language": "python",
   "name": "python3"
  },
  "language_info": {
   "codemirror_mode": {
    "name": "ipython",
    "version": 3
   },
   "file_extension": ".py",
   "mimetype": "text/x-python",
   "name": "python",
   "nbconvert_exporter": "python",
   "pygments_lexer": "ipython3",
   "version": "3.11.3"
  }
 },
 "nbformat": 4,
 "nbformat_minor": 5
}
