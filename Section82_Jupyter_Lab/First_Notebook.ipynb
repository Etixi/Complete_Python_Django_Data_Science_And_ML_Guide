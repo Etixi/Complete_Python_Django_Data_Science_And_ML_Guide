{
 "cells": [
  {
   "cell_type": "markdown",
   "id": "5e00e224-44b5-4a5b-9ba7-f61606716f00",
   "metadata": {},
   "source": [
    "# **First Jupyter Notebbok**"
   ]
  },
  {
   "cell_type": "code",
   "execution_count": 6,
   "id": "63ece2fa-1b02-4ffe-be8d-3c6f7889806c",
   "metadata": {},
   "outputs": [
    {
     "data": {
      "text/plain": [
       "2.0"
      ]
     },
     "execution_count": 6,
     "metadata": {},
     "output_type": "execute_result"
    }
   ],
   "source": [
    "100 / 50"
   ]
  },
  {
   "cell_type": "code",
   "execution_count": 5,
   "id": "bafc85b1-399d-4bf1-be4d-a35ad7a5b1cd",
   "metadata": {},
   "outputs": [
    {
     "data": {
      "text/plain": [
       "12"
      ]
     },
     "execution_count": 5,
     "metadata": {},
     "output_type": "execute_result"
    }
   ],
   "source": [
    "10 + 2 "
   ]
  },
  {
   "cell_type": "code",
   "execution_count": 3,
   "id": "bc4579fc-bbc7-4b6d-a5e9-2f79b437308c",
   "metadata": {},
   "outputs": [
    {
     "data": {
      "text/plain": [
       "'Etienne'"
      ]
     },
     "execution_count": 3,
     "metadata": {},
     "output_type": "execute_result"
    }
   ],
   "source": [
    "my_name = 'Etienne'\n",
    "my_name"
   ]
  },
  {
   "cell_type": "code",
   "execution_count": 4,
   "id": "8a5e6076-1215-41af-b879-3c6163413626",
   "metadata": {},
   "outputs": [
    {
     "data": {
      "text/plain": [
       "'Alice'"
      ]
     },
     "execution_count": 4,
     "metadata": {},
     "output_type": "execute_result"
    }
   ],
   "source": [
    "my_name = 'Alice'\n",
    "my_name"
   ]
  },
  {
   "cell_type": "code",
   "execution_count": null,
   "id": "77d00242-0798-4b27-824e-63127f34f7e4",
   "metadata": {},
   "outputs": [],
   "source": []
  }
 ],
 "metadata": {
  "kernelspec": {
   "display_name": "Python 3 (ipykernel)",
   "language": "python",
   "name": "python3"
  },
  "language_info": {
   "codemirror_mode": {
    "name": "ipython",
    "version": 3
   },
   "file_extension": ".py",
   "mimetype": "text/x-python",
   "name": "python",
   "nbconvert_exporter": "python",
   "pygments_lexer": "ipython3",
   "version": "3.11.3"
  }
 },
 "nbformat": 4,
 "nbformat_minor": 5
}
