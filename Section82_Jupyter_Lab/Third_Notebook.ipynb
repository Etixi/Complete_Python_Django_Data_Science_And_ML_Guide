{
 "cells": [
  {
   "cell_type": "code",
   "execution_count": 2,
   "id": "2a44c66d-e8a3-480b-8781-5416da97d118",
   "metadata": {},
   "outputs": [
    {
     "name": "stdout",
     "output_type": "stream",
     "text": [
      "Collecting pygame\n",
      "  Downloading pygame-2.5.2-cp311-cp311-win_amd64.whl (10.8 MB)\n",
      "                                              0.0/10.8 MB ? eta -:--:--\n",
      "     ----                                     1.2/10.8 MB 24.4 MB/s eta 0:00:01\n",
      "     -----------                              3.1/10.8 MB 32.9 MB/s eta 0:00:01\n",
      "     ------------------                       4.9/10.8 MB 34.8 MB/s eta 0:00:01\n",
      "     ------------------------                 6.7/10.8 MB 35.7 MB/s eta 0:00:01\n",
      "     ---------------------------------        9.0/10.8 MB 38.6 MB/s eta 0:00:01\n",
      "     --------------------------------------  10.8/10.8 MB 43.7 MB/s eta 0:00:01\n",
      "     --------------------------------------- 10.8/10.8 MB 34.4 MB/s eta 0:00:00\n",
      "Installing collected packages: pygame\n",
      "Successfully installed pygame-2.5.2\n"
     ]
    }
   ],
   "source": [
    "!pip install pygame"
   ]
  },
  {
   "cell_type": "code",
   "execution_count": 3,
   "id": "7204a1d8-cd89-4c99-934d-0c48da235d54",
   "metadata": {},
   "outputs": [
    {
     "name": "stdout",
     "output_type": "stream",
     "text": [
      "pygame 2.5.2 (SDL 2.28.3, Python 3.11.3)\n",
      "Hello from the pygame community. https://www.pygame.org/contribute.html\n"
     ]
    }
   ],
   "source": [
    "import pygame"
   ]
  },
  {
   "cell_type": "code",
   "execution_count": null,
   "id": "4f2909e7-c630-4db1-9a55-d1a95f162503",
   "metadata": {},
   "outputs": [],
   "source": [
    "print(pygame)"
   ]
  },
  {
   "cell_type": "code",
   "execution_count": null,
   "id": "09f37b85-db2f-434b-8af7-92754e307bdd",
   "metadata": {},
   "outputs": [],
   "source": []
  }
 ],
 "metadata": {
  "kernelspec": {
   "display_name": "Python 3 (ipykernel)",
   "language": "python",
   "name": "python3"
  },
  "language_info": {
   "codemirror_mode": {
    "name": "ipython",
    "version": 3
   },
   "file_extension": ".py",
   "mimetype": "text/x-python",
   "name": "python",
   "nbconvert_exporter": "python",
   "pygments_lexer": "ipython3",
   "version": "3.11.3"
  }
 },
 "nbformat": 4,
 "nbformat_minor": 5
}
