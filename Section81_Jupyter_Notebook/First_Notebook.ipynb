{
 "cells": [
  {
   "cell_type": "markdown",
   "id": "4939aad6-1985-429a-8271-1afe56a06ab6",
   "metadata": {},
   "source": [
    "# **Editing In Jupyter Notebook**"
   ]
  },
  {
   "cell_type": "code",
   "execution_count": 2,
   "id": "54946b1a-abf7-4fa1-9019-157da9d35d96",
   "metadata": {},
   "outputs": [
    {
     "data": {
      "text/plain": [
       "12"
      ]
     },
     "execution_count": 2,
     "metadata": {},
     "output_type": "execute_result"
    }
   ],
   "source": [
    "10 + 2 "
   ]
  },
  {
   "cell_type": "code",
   "execution_count": 3,
   "id": "525fd5d2-b9b6-4fd1-b1b8-5ace15b12073",
   "metadata": {},
   "outputs": [
    {
     "data": {
      "text/plain": [
       "'Etienne'"
      ]
     },
     "execution_count": 3,
     "metadata": {},
     "output_type": "execute_result"
    }
   ],
   "source": [
    "my_name = 'Etienne'\n",
    "my_name"
   ]
  },
  {
   "cell_type": "code",
   "execution_count": null,
   "id": "292057d9-9ae8-4041-a557-2144aa4350e6",
   "metadata": {},
   "outputs": [],
   "source": [
    "my_name = 'Alice'\n",
    "my_name"
   ]
  }
 ],
 "metadata": {
  "kernelspec": {
   "display_name": "Python 3 (ipykernel)",
   "language": "python",
   "name": "python3"
  },
  "language_info": {
   "codemirror_mode": {
    "name": "ipython",
    "version": 3
   },
   "file_extension": ".py",
   "mimetype": "text/x-python",
   "name": "python",
   "nbconvert_exporter": "python",
   "pygments_lexer": "ipython3",
   "version": "3.11.3"
  }
 },
 "nbformat": 4,
 "nbformat_minor": 5
}
