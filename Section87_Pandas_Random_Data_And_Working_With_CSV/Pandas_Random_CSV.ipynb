{
 "cells": [
  {
   "cell_type": "code",
   "execution_count": 22,
   "id": "4ba3a2dc-9ea9-409d-a8d8-b538f1c1ee92",
   "metadata": {},
   "outputs": [
    {
     "name": "stdout",
     "output_type": "stream",
     "text": [
      "1.5.3\n"
     ]
    }
   ],
   "source": [
    "import pandas as pd\n",
    "import numpy as np\n",
    "import openpyxl\n",
    "print(f\"{pd.__version__}\")"
   ]
  },
  {
   "cell_type": "code",
   "execution_count": 8,
   "id": "f1b615c2-c895-4283-b5e1-7f56fde4428e",
   "metadata": {},
   "outputs": [],
   "source": [
    "np.random.seed(1)\n",
    "n = 100\n",
    "dates = pd.date_range(start='2045-01-01', periods=n, freq='D')\n",
    "products = ['Tablet', 'Camera', 'Phone']\n",
    "prices = np.round(np.random.uniform(50, 200, n), 2)\n",
    "quantiles = np.random.randint(1, 15, n)\n",
    "\n",
    "data = {\n",
    "    'Date': dates,\n",
    "    'Product': np.random.choice(products, n),\n",
    "    'Price': prices,\n",
    "    'Quantity': quantiles\n",
    "}\n",
    "\n",
    "df = pd.DataFrame(data)"
   ]
  },
  {
   "cell_type": "code",
   "execution_count": 9,
   "id": "0b510e83-0f0c-4819-b12a-43850a83e12d",
   "metadata": {},
   "outputs": [
    {
     "data": {
      "text/html": [
       "<div>\n",
       "<style scoped>\n",
       "    .dataframe tbody tr th:only-of-type {\n",
       "        vertical-align: middle;\n",
       "    }\n",
       "\n",
       "    .dataframe tbody tr th {\n",
       "        vertical-align: top;\n",
       "    }\n",
       "\n",
       "    .dataframe thead th {\n",
       "        text-align: right;\n",
       "    }\n",
       "</style>\n",
       "<table border=\"1\" class=\"dataframe\">\n",
       "  <thead>\n",
       "    <tr style=\"text-align: right;\">\n",
       "      <th></th>\n",
       "      <th>Date</th>\n",
       "      <th>Product</th>\n",
       "      <th>Price</th>\n",
       "      <th>Quantity</th>\n",
       "    </tr>\n",
       "  </thead>\n",
       "  <tbody>\n",
       "    <tr>\n",
       "      <th>0</th>\n",
       "      <td>2045-01-01</td>\n",
       "      <td>Phone</td>\n",
       "      <td>112.55</td>\n",
       "      <td>5</td>\n",
       "    </tr>\n",
       "    <tr>\n",
       "      <th>1</th>\n",
       "      <td>2045-01-02</td>\n",
       "      <td>Camera</td>\n",
       "      <td>158.05</td>\n",
       "      <td>7</td>\n",
       "    </tr>\n",
       "    <tr>\n",
       "      <th>2</th>\n",
       "      <td>2045-01-03</td>\n",
       "      <td>Phone</td>\n",
       "      <td>50.02</td>\n",
       "      <td>1</td>\n",
       "    </tr>\n",
       "    <tr>\n",
       "      <th>3</th>\n",
       "      <td>2045-01-04</td>\n",
       "      <td>Tablet</td>\n",
       "      <td>95.35</td>\n",
       "      <td>7</td>\n",
       "    </tr>\n",
       "    <tr>\n",
       "      <th>4</th>\n",
       "      <td>2045-01-05</td>\n",
       "      <td>Phone</td>\n",
       "      <td>72.01</td>\n",
       "      <td>6</td>\n",
       "    </tr>\n",
       "  </tbody>\n",
       "</table>\n",
       "</div>"
      ],
      "text/plain": [
       "        Date Product   Price  Quantity\n",
       "0 2045-01-01   Phone  112.55         5\n",
       "1 2045-01-02  Camera  158.05         7\n",
       "2 2045-01-03   Phone   50.02         1\n",
       "3 2045-01-04  Tablet   95.35         7\n",
       "4 2045-01-05   Phone   72.01         6"
      ]
     },
     "execution_count": 9,
     "metadata": {},
     "output_type": "execute_result"
    }
   ],
   "source": [
    "df.head()"
   ]
  },
  {
   "cell_type": "code",
   "execution_count": 10,
   "id": "a6737f4f-4304-4d65-871a-8d338ad73f8e",
   "metadata": {},
   "outputs": [
    {
     "data": {
      "text/plain": [
       "Date        datetime64[ns]\n",
       "Product             object\n",
       "Price              float64\n",
       "Quantity             int32\n",
       "dtype: object"
      ]
     },
     "execution_count": 10,
     "metadata": {},
     "output_type": "execute_result"
    }
   ],
   "source": [
    "df.dtypes"
   ]
  },
  {
   "cell_type": "code",
   "execution_count": 12,
   "id": "f66d0c8f-44e9-4c74-ada1-6e983756b46c",
   "metadata": {},
   "outputs": [],
   "source": [
    "df.to_csv('random_sales.csv', index=False)"
   ]
  },
  {
   "cell_type": "code",
   "execution_count": 21,
   "id": "7b9007c8-12a0-4a56-9454-04d7cd3ecfe0",
   "metadata": {},
   "outputs": [
    {
     "data": {
      "text/html": [
       "<div>\n",
       "<style scoped>\n",
       "    .dataframe tbody tr th:only-of-type {\n",
       "        vertical-align: middle;\n",
       "    }\n",
       "\n",
       "    .dataframe tbody tr th {\n",
       "        vertical-align: top;\n",
       "    }\n",
       "\n",
       "    .dataframe thead th {\n",
       "        text-align: right;\n",
       "    }\n",
       "</style>\n",
       "<table border=\"1\" class=\"dataframe\">\n",
       "  <thead>\n",
       "    <tr style=\"text-align: right;\">\n",
       "      <th></th>\n",
       "      <th>Date</th>\n",
       "      <th>Product</th>\n",
       "      <th>Price</th>\n",
       "      <th>Quantity</th>\n",
       "    </tr>\n",
       "  </thead>\n",
       "  <tbody>\n",
       "    <tr>\n",
       "      <th>0</th>\n",
       "      <td>2045-01-01</td>\n",
       "      <td>Phone</td>\n",
       "      <td>112.55</td>\n",
       "      <td>5</td>\n",
       "    </tr>\n",
       "    <tr>\n",
       "      <th>1</th>\n",
       "      <td>2045-01-02</td>\n",
       "      <td>Camera</td>\n",
       "      <td>158.05</td>\n",
       "      <td>7</td>\n",
       "    </tr>\n",
       "    <tr>\n",
       "      <th>2</th>\n",
       "      <td>2045-01-03</td>\n",
       "      <td>Phone</td>\n",
       "      <td>50.02</td>\n",
       "      <td>1</td>\n",
       "    </tr>\n",
       "    <tr>\n",
       "      <th>3</th>\n",
       "      <td>2045-01-04</td>\n",
       "      <td>Tablet</td>\n",
       "      <td>95.35</td>\n",
       "      <td>7</td>\n",
       "    </tr>\n",
       "    <tr>\n",
       "      <th>4</th>\n",
       "      <td>2045-01-05</td>\n",
       "      <td>Phone</td>\n",
       "      <td>72.01</td>\n",
       "      <td>6</td>\n",
       "    </tr>\n",
       "  </tbody>\n",
       "</table>\n",
       "</div>"
      ],
      "text/plain": [
       "        Date Product   Price  Quantity\n",
       "0 2045-01-01   Phone  112.55         5\n",
       "1 2045-01-02  Camera  158.05         7\n",
       "2 2045-01-03   Phone   50.02         1\n",
       "3 2045-01-04  Tablet   95.35         7\n",
       "4 2045-01-05   Phone   72.01         6"
      ]
     },
     "execution_count": 21,
     "metadata": {},
     "output_type": "execute_result"
    }
   ],
   "source": [
    "file_path = 'random_sales.csv'\n",
    "df = pd.read_csv(file_path, parse_dates=['Date'], date_parser=lambda x: pd.to_datetime(x, format='%Y-%m-%d'))\n",
    "df.head()"
   ]
  },
  {
   "cell_type": "code",
   "execution_count": 19,
   "id": "12931edf-8609-4468-8336-292e8f0b8b67",
   "metadata": {},
   "outputs": [
    {
     "data": {
      "text/plain": [
       "Date        datetime64[ns]\n",
       "Product             object\n",
       "Price              float64\n",
       "Quantity             int64\n",
       "dtype: object"
      ]
     },
     "execution_count": 19,
     "metadata": {},
     "output_type": "execute_result"
    }
   ],
   "source": [
    "df.dtypes"
   ]
  },
  {
   "cell_type": "code",
   "execution_count": 23,
   "id": "ab90bcba-22e3-4c1a-83cd-5d8b4951bce2",
   "metadata": {},
   "outputs": [],
   "source": [
    "df.to_excel('sales_data.xlsx')"
   ]
  },
  {
   "cell_type": "code",
   "execution_count": 24,
   "id": "406085d7-fb45-47f2-a707-1fdb5c04f7e4",
   "metadata": {},
   "outputs": [],
   "source": [
    "df.to_json('sales_data.json')"
   ]
  },
  {
   "cell_type": "code",
   "execution_count": null,
   "id": "10bb5dfe-9901-47e1-ae6f-82094291f8be",
   "metadata": {},
   "outputs": [],
   "source": []
  }
 ],
 "metadata": {
  "kernelspec": {
   "display_name": "Python 3 (ipykernel)",
   "language": "python",
   "name": "python3"
  },
  "language_info": {
   "codemirror_mode": {
    "name": "ipython",
    "version": 3
   },
   "file_extension": ".py",
   "mimetype": "text/x-python",
   "name": "python",
   "nbconvert_exporter": "python",
   "pygments_lexer": "ipython3",
   "version": "3.11.3"
  }
 },
 "nbformat": 4,
 "nbformat_minor": 5
}
