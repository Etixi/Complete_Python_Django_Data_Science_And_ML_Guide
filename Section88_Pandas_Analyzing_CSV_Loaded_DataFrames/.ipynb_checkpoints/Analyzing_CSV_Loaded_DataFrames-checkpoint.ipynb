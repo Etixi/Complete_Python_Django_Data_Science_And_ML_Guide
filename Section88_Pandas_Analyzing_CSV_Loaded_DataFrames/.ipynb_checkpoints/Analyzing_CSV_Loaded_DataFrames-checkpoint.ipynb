{
 "cells": [
  {
   "cell_type": "code",
   "execution_count": 23,
   "id": "4ba3a2dc-9ea9-409d-a8d8-b538f1c1ee92",
   "metadata": {},
   "outputs": [
    {
     "name": "stdout",
     "output_type": "stream",
     "text": [
      "1.5.3\n"
     ]
    }
   ],
   "source": [
    "import pandas as pd\n",
    "import numpy as np\n",
    "import openpyxl\n",
    "import matplotlib.pyplot as plt\n",
    "print(f\"{pd.__version__}\")"
   ]
  },
  {
   "cell_type": "code",
   "execution_count": 5,
   "id": "f1b615c2-c895-4283-b5e1-7f56fde4428e",
   "metadata": {},
   "outputs": [],
   "source": [
    "np.random.seed(1)\n",
    "n = 100\n",
    "dates = pd.date_range(start='2045-01-01', periods=n, freq='D')\n",
    "products = ['Tablet', 'Camera', 'Phone']\n",
    "prices = np.round(np.random.uniform(50, 200, n), 2)\n",
    "quantiles = np.random.randint(1, 15, n)\n",
    "\n",
    "data = {\n",
    "    'Date': dates,\n",
    "    'Product': np.random.choice(products, n),\n",
    "    'Price': prices,\n",
    "    'Quantity': quantiles\n",
    "}\n",
    "\n",
    "df = pd.DataFrame(data)"
   ]
  },
  {
   "cell_type": "code",
   "execution_count": 6,
   "id": "0b510e83-0f0c-4819-b12a-43850a83e12d",
   "metadata": {},
   "outputs": [
    {
     "data": {
      "text/html": [
       "<div>\n",
       "<style scoped>\n",
       "    .dataframe tbody tr th:only-of-type {\n",
       "        vertical-align: middle;\n",
       "    }\n",
       "\n",
       "    .dataframe tbody tr th {\n",
       "        vertical-align: top;\n",
       "    }\n",
       "\n",
       "    .dataframe thead th {\n",
       "        text-align: right;\n",
       "    }\n",
       "</style>\n",
       "<table border=\"1\" class=\"dataframe\">\n",
       "  <thead>\n",
       "    <tr style=\"text-align: right;\">\n",
       "      <th></th>\n",
       "      <th>Date</th>\n",
       "      <th>Product</th>\n",
       "      <th>Price</th>\n",
       "      <th>Quantity</th>\n",
       "    </tr>\n",
       "  </thead>\n",
       "  <tbody>\n",
       "    <tr>\n",
       "      <th>0</th>\n",
       "      <td>2045-01-01</td>\n",
       "      <td>Phone</td>\n",
       "      <td>112.55</td>\n",
       "      <td>5</td>\n",
       "    </tr>\n",
       "    <tr>\n",
       "      <th>1</th>\n",
       "      <td>2045-01-02</td>\n",
       "      <td>Camera</td>\n",
       "      <td>158.05</td>\n",
       "      <td>7</td>\n",
       "    </tr>\n",
       "    <tr>\n",
       "      <th>2</th>\n",
       "      <td>2045-01-03</td>\n",
       "      <td>Phone</td>\n",
       "      <td>50.02</td>\n",
       "      <td>1</td>\n",
       "    </tr>\n",
       "    <tr>\n",
       "      <th>3</th>\n",
       "      <td>2045-01-04</td>\n",
       "      <td>Tablet</td>\n",
       "      <td>95.35</td>\n",
       "      <td>7</td>\n",
       "    </tr>\n",
       "    <tr>\n",
       "      <th>4</th>\n",
       "      <td>2045-01-05</td>\n",
       "      <td>Phone</td>\n",
       "      <td>72.01</td>\n",
       "      <td>6</td>\n",
       "    </tr>\n",
       "  </tbody>\n",
       "</table>\n",
       "</div>"
      ],
      "text/plain": [
       "        Date Product   Price  Quantity\n",
       "0 2045-01-01   Phone  112.55         5\n",
       "1 2045-01-02  Camera  158.05         7\n",
       "2 2045-01-03   Phone   50.02         1\n",
       "3 2045-01-04  Tablet   95.35         7\n",
       "4 2045-01-05   Phone   72.01         6"
      ]
     },
     "execution_count": 6,
     "metadata": {},
     "output_type": "execute_result"
    }
   ],
   "source": [
    "df.head()"
   ]
  },
  {
   "cell_type": "code",
   "execution_count": 7,
   "id": "a6737f4f-4304-4d65-871a-8d338ad73f8e",
   "metadata": {},
   "outputs": [
    {
     "data": {
      "text/plain": [
       "Date        datetime64[ns]\n",
       "Product             object\n",
       "Price              float64\n",
       "Quantity             int32\n",
       "dtype: object"
      ]
     },
     "execution_count": 7,
     "metadata": {},
     "output_type": "execute_result"
    }
   ],
   "source": [
    "df.dtypes"
   ]
  },
  {
   "cell_type": "code",
   "execution_count": 8,
   "id": "f66d0c8f-44e9-4c74-ada1-6e983756b46c",
   "metadata": {},
   "outputs": [],
   "source": [
    "df.to_csv('random_sales.csv', index=False)"
   ]
  },
  {
   "cell_type": "code",
   "execution_count": 9,
   "id": "7b9007c8-12a0-4a56-9454-04d7cd3ecfe0",
   "metadata": {},
   "outputs": [
    {
     "data": {
      "text/html": [
       "<div>\n",
       "<style scoped>\n",
       "    .dataframe tbody tr th:only-of-type {\n",
       "        vertical-align: middle;\n",
       "    }\n",
       "\n",
       "    .dataframe tbody tr th {\n",
       "        vertical-align: top;\n",
       "    }\n",
       "\n",
       "    .dataframe thead th {\n",
       "        text-align: right;\n",
       "    }\n",
       "</style>\n",
       "<table border=\"1\" class=\"dataframe\">\n",
       "  <thead>\n",
       "    <tr style=\"text-align: right;\">\n",
       "      <th></th>\n",
       "      <th>Date</th>\n",
       "      <th>Product</th>\n",
       "      <th>Price</th>\n",
       "      <th>Quantity</th>\n",
       "    </tr>\n",
       "  </thead>\n",
       "  <tbody>\n",
       "    <tr>\n",
       "      <th>0</th>\n",
       "      <td>2045-01-01</td>\n",
       "      <td>Phone</td>\n",
       "      <td>112.55</td>\n",
       "      <td>5</td>\n",
       "    </tr>\n",
       "    <tr>\n",
       "      <th>1</th>\n",
       "      <td>2045-01-02</td>\n",
       "      <td>Camera</td>\n",
       "      <td>158.05</td>\n",
       "      <td>7</td>\n",
       "    </tr>\n",
       "    <tr>\n",
       "      <th>2</th>\n",
       "      <td>2045-01-03</td>\n",
       "      <td>Phone</td>\n",
       "      <td>50.02</td>\n",
       "      <td>1</td>\n",
       "    </tr>\n",
       "    <tr>\n",
       "      <th>3</th>\n",
       "      <td>2045-01-04</td>\n",
       "      <td>Tablet</td>\n",
       "      <td>95.35</td>\n",
       "      <td>7</td>\n",
       "    </tr>\n",
       "    <tr>\n",
       "      <th>4</th>\n",
       "      <td>2045-01-05</td>\n",
       "      <td>Phone</td>\n",
       "      <td>72.01</td>\n",
       "      <td>6</td>\n",
       "    </tr>\n",
       "  </tbody>\n",
       "</table>\n",
       "</div>"
      ],
      "text/plain": [
       "        Date Product   Price  Quantity\n",
       "0 2045-01-01   Phone  112.55         5\n",
       "1 2045-01-02  Camera  158.05         7\n",
       "2 2045-01-03   Phone   50.02         1\n",
       "3 2045-01-04  Tablet   95.35         7\n",
       "4 2045-01-05   Phone   72.01         6"
      ]
     },
     "execution_count": 9,
     "metadata": {},
     "output_type": "execute_result"
    }
   ],
   "source": [
    "file_path = 'random_sales.csv'\n",
    "df = pd.read_csv(file_path, parse_dates=['Date'], date_parser=lambda x: pd.to_datetime(x, format='%Y-%m-%d'))\n",
    "df.head()"
   ]
  },
  {
   "cell_type": "code",
   "execution_count": 10,
   "id": "12931edf-8609-4468-8336-292e8f0b8b67",
   "metadata": {},
   "outputs": [
    {
     "data": {
      "text/plain": [
       "Date        datetime64[ns]\n",
       "Product             object\n",
       "Price              float64\n",
       "Quantity             int64\n",
       "dtype: object"
      ]
     },
     "execution_count": 10,
     "metadata": {},
     "output_type": "execute_result"
    }
   ],
   "source": [
    "df.dtypes"
   ]
  },
  {
   "cell_type": "code",
   "execution_count": 11,
   "id": "ab90bcba-22e3-4c1a-83cd-5d8b4951bce2",
   "metadata": {},
   "outputs": [],
   "source": [
    "df.to_excel('sales_data.xlsx')"
   ]
  },
  {
   "cell_type": "code",
   "execution_count": 12,
   "id": "406085d7-fb45-47f2-a707-1fdb5c04f7e4",
   "metadata": {},
   "outputs": [],
   "source": [
    "df.to_json('sales_data.json')"
   ]
  },
  {
   "cell_type": "markdown",
   "id": "638f5545-e1e6-4fa3-953b-47aba77ec35a",
   "metadata": {},
   "source": [
    "# **Analyzing CSV - Loaded DataFrames**"
   ]
  },
  {
   "cell_type": "code",
   "execution_count": 13,
   "id": "10bb5dfe-9901-47e1-ae6f-82094291f8be",
   "metadata": {},
   "outputs": [
    {
     "data": {
      "text/plain": [
       "(100, 4)"
      ]
     },
     "execution_count": 13,
     "metadata": {},
     "output_type": "execute_result"
    }
   ],
   "source": [
    "df.shape"
   ]
  },
  {
   "cell_type": "code",
   "execution_count": 15,
   "id": "b729c598-409a-4832-a8bc-18ad203bf6ee",
   "metadata": {},
   "outputs": [
    {
     "data": {
      "text/html": [
       "<div>\n",
       "<style scoped>\n",
       "    .dataframe tbody tr th:only-of-type {\n",
       "        vertical-align: middle;\n",
       "    }\n",
       "\n",
       "    .dataframe tbody tr th {\n",
       "        vertical-align: top;\n",
       "    }\n",
       "\n",
       "    .dataframe thead th {\n",
       "        text-align: right;\n",
       "    }\n",
       "</style>\n",
       "<table border=\"1\" class=\"dataframe\">\n",
       "  <thead>\n",
       "    <tr style=\"text-align: right;\">\n",
       "      <th></th>\n",
       "      <th>Price</th>\n",
       "      <th>Quantity</th>\n",
       "    </tr>\n",
       "  </thead>\n",
       "  <tbody>\n",
       "    <tr>\n",
       "      <th>count</th>\n",
       "      <td>100.000000</td>\n",
       "      <td>100.000000</td>\n",
       "    </tr>\n",
       "    <tr>\n",
       "      <th>mean</th>\n",
       "      <td>122.881300</td>\n",
       "      <td>7.510000</td>\n",
       "    </tr>\n",
       "    <tr>\n",
       "      <th>std</th>\n",
       "      <td>44.382936</td>\n",
       "      <td>4.314633</td>\n",
       "    </tr>\n",
       "    <tr>\n",
       "      <th>min</th>\n",
       "      <td>50.020000</td>\n",
       "      <td>1.000000</td>\n",
       "    </tr>\n",
       "    <tr>\n",
       "      <th>25%</th>\n",
       "      <td>81.472500</td>\n",
       "      <td>4.000000</td>\n",
       "    </tr>\n",
       "    <tr>\n",
       "      <th>50%</th>\n",
       "      <td>120.615000</td>\n",
       "      <td>7.000000</td>\n",
       "    </tr>\n",
       "    <tr>\n",
       "      <th>75%</th>\n",
       "      <td>158.262500</td>\n",
       "      <td>11.250000</td>\n",
       "    </tr>\n",
       "    <tr>\n",
       "      <th>max</th>\n",
       "      <td>198.330000</td>\n",
       "      <td>14.000000</td>\n",
       "    </tr>\n",
       "  </tbody>\n",
       "</table>\n",
       "</div>"
      ],
      "text/plain": [
       "            Price    Quantity\n",
       "count  100.000000  100.000000\n",
       "mean   122.881300    7.510000\n",
       "std     44.382936    4.314633\n",
       "min     50.020000    1.000000\n",
       "25%     81.472500    4.000000\n",
       "50%    120.615000    7.000000\n",
       "75%    158.262500   11.250000\n",
       "max    198.330000   14.000000"
      ]
     },
     "execution_count": 15,
     "metadata": {},
     "output_type": "execute_result"
    }
   ],
   "source": [
    "df.describe()"
   ]
  },
  {
   "cell_type": "code",
   "execution_count": 17,
   "id": "fca3de27-009b-4561-9bce-0437e4f8494f",
   "metadata": {
    "scrolled": true
   },
   "outputs": [
    {
     "data": {
      "text/plain": [
       "array([[Timestamp('2045-01-01 00:00:00'), 'Phone', 112.55, 5],\n",
       "       [Timestamp('2045-01-02 00:00:00'), 'Camera', 158.05, 7],\n",
       "       [Timestamp('2045-01-03 00:00:00'), 'Phone', 50.02, 1],\n",
       "       [Timestamp('2045-01-04 00:00:00'), 'Tablet', 95.35, 7],\n",
       "       [Timestamp('2045-01-05 00:00:00'), 'Phone', 72.01, 6],\n",
       "       [Timestamp('2045-01-06 00:00:00'), 'Tablet', 63.85, 14],\n",
       "       [Timestamp('2045-01-07 00:00:00'), 'Tablet', 77.94, 2],\n",
       "       [Timestamp('2045-01-08 00:00:00'), 'Tablet', 101.83, 3],\n",
       "       [Timestamp('2045-01-09 00:00:00'), 'Tablet', 109.52, 2],\n",
       "       [Timestamp('2045-01-10 00:00:00'), 'Camera', 130.82, 6],\n",
       "       [Timestamp('2045-01-11 00:00:00'), 'Phone', 112.88, 5],\n",
       "       [Timestamp('2045-01-12 00:00:00'), 'Phone', 152.78, 11],\n",
       "       [Timestamp('2045-01-13 00:00:00'), 'Camera', 80.67, 1],\n",
       "       [Timestamp('2045-01-14 00:00:00'), 'Camera', 181.72, 8],\n",
       "       [Timestamp('2045-01-15 00:00:00'), 'Tablet', 54.11, 14],\n",
       "       [Timestamp('2045-01-16 00:00:00'), 'Phone', 150.57, 9],\n",
       "       [Timestamp('2045-01-17 00:00:00'), 'Phone', 112.6, 10],\n",
       "       [Timestamp('2045-01-18 00:00:00'), 'Phone', 133.8, 6],\n",
       "       [Timestamp('2045-01-19 00:00:00'), 'Tablet', 71.06, 8],\n",
       "       [Timestamp('2045-01-20 00:00:00'), 'Phone', 79.72, 1],\n",
       "       [Timestamp('2045-01-21 00:00:00'), 'Phone', 170.11, 10],\n",
       "       [Timestamp('2045-01-22 00:00:00'), 'Camera', 195.24, 4],\n",
       "       [Timestamp('2045-01-23 00:00:00'), 'Tablet', 97.01, 10],\n",
       "       [Timestamp('2045-01-24 00:00:00'), 'Tablet', 153.85, 2],\n",
       "       [Timestamp('2045-01-25 00:00:00'), 'Tablet', 181.46, 14],\n",
       "       [Timestamp('2045-01-26 00:00:00'), 'Tablet', 184.19, 5],\n",
       "       [Timestamp('2045-01-27 00:00:00'), 'Phone', 62.76, 5],\n",
       "       [Timestamp('2045-01-28 00:00:00'), 'Camera', 55.86, 12],\n",
       "       [Timestamp('2045-01-29 00:00:00'), 'Camera', 75.47, 7],\n",
       "       [Timestamp('2045-01-30 00:00:00'), 'Tablet', 181.72, 14],\n",
       "       [Timestamp('2045-01-31 00:00:00'), 'Phone', 64.75, 9],\n",
       "       [Timestamp('2045-02-01 00:00:00'), 'Phone', 113.17, 12],\n",
       "       [Timestamp('2045-02-02 00:00:00'), 'Camera', 193.68, 9],\n",
       "       [Timestamp('2045-02-03 00:00:00'), 'Phone', 129.97, 12],\n",
       "       [Timestamp('2045-02-04 00:00:00'), 'Camera', 153.78, 10],\n",
       "       [Timestamp('2045-02-05 00:00:00'), 'Phone', 97.33, 3],\n",
       "       [Timestamp('2045-02-06 00:00:00'), 'Camera', 152.98, 8],\n",
       "       [Timestamp('2045-02-07 00:00:00'), 'Phone', 175.19, 6],\n",
       "       [Timestamp('2045-02-08 00:00:00'), 'Tablet', 52.74, 6],\n",
       "       [Timestamp('2045-02-09 00:00:00'), 'Tablet', 162.52, 5],\n",
       "       [Timestamp('2045-02-10 00:00:00'), 'Phone', 198.33, 6],\n",
       "       [Timestamp('2045-02-11 00:00:00'), 'Phone', 162.22, 9],\n",
       "       [Timestamp('2045-02-12 00:00:00'), 'Tablet', 92.07, 6],\n",
       "       [Timestamp('2045-02-13 00:00:00'), 'Camera', 168.39, 9],\n",
       "       [Timestamp('2045-02-14 00:00:00'), 'Phone', 65.48, 14],\n",
       "       [Timestamp('2045-02-15 00:00:00'), 'Tablet', 117.18, 12],\n",
       "       [Timestamp('2045-02-16 00:00:00'), 'Phone', 186.29, 2],\n",
       "       [Timestamp('2045-02-17 00:00:00'), 'Tablet', 94.04, 2],\n",
       "       [Timestamp('2045-02-18 00:00:00'), 'Camera', 93.17, 14],\n",
       "       [Timestamp('2045-02-19 00:00:00'), 'Tablet', 69.5, 9],\n",
       "       [Timestamp('2045-02-20 00:00:00'), 'Tablet', 52.91, 14],\n",
       "       [Timestamp('2045-02-21 00:00:00'), 'Phone', 151.83, 8],\n",
       "       [Timestamp('2045-02-22 00:00:00'), 'Tablet', 81.74, 1],\n",
       "       [Timestamp('2045-02-23 00:00:00'), 'Phone', 89.83, 13],\n",
       "       [Timestamp('2045-02-24 00:00:00'), 'Camera', 123.74, 11],\n",
       "       [Timestamp('2045-02-25 00:00:00'), 'Phone', 58.0, 14],\n",
       "       [Timestamp('2045-02-26 00:00:00'), 'Tablet', 136.12, 4],\n",
       "       [Timestamp('2045-02-27 00:00:00'), 'Tablet', 72.01, 5],\n",
       "       [Timestamp('2045-02-28 00:00:00'), 'Tablet', 138.4, 3],\n",
       "       [Timestamp('2045-03-01 00:00:00'), 'Tablet', 154.96, 1],\n",
       "       [Timestamp('2045-03-02 00:00:00'), 'Phone', 65.35, 14],\n",
       "       [Timestamp('2045-03-03 00:00:00'), 'Phone', 112.11, 12],\n",
       "       [Timestamp('2045-03-04 00:00:00'), 'Tablet', 154.16, 4],\n",
       "       [Timestamp('2045-03-05 00:00:00'), 'Phone', 112.13, 6],\n",
       "       [Timestamp('2045-03-06 00:00:00'), 'Camera', 57.49, 14],\n",
       "       [Timestamp('2045-03-07 00:00:00'), 'Camera', 130.38, 2],\n",
       "       [Timestamp('2045-03-08 00:00:00'), 'Camera', 149.57, 3],\n",
       "       [Timestamp('2045-03-09 00:00:00'), 'Tablet', 127.23, 5],\n",
       "       [Timestamp('2045-03-10 00:00:00'), 'Camera', 191.69, 4],\n",
       "       [Timestamp('2045-03-11 00:00:00'), 'Phone', 137.98, 1],\n",
       "       [Timestamp('2045-03-12 00:00:00'), 'Camera', 185.51, 7],\n",
       "       [Timestamp('2045-03-13 00:00:00'), 'Phone', 70.62, 1],\n",
       "       [Timestamp('2045-03-14 00:00:00'), 'Phone', 70.89, 14],\n",
       "       [Timestamp('2045-03-15 00:00:00'), 'Camera', 171.11, 13],\n",
       "       [Timestamp('2045-03-16 00:00:00'), 'Tablet', 109.65, 8],\n",
       "       [Timestamp('2045-03-17 00:00:00'), 'Camera', 74.8, 3],\n",
       "       [Timestamp('2045-03-18 00:00:00'), 'Phone', 189.13, 13],\n",
       "       [Timestamp('2045-03-19 00:00:00'), 'Phone', 102.16, 11],\n",
       "       [Timestamp('2045-03-20 00:00:00'), 'Tablet', 162.62, 9],\n",
       "       [Timestamp('2045-03-21 00:00:00'), 'Tablet', 158.9, 14],\n",
       "       [Timestamp('2045-03-22 00:00:00'), 'Tablet', 182.5, 4],\n",
       "       [Timestamp('2045-03-23 00:00:00'), 'Phone', 143.55, 1],\n",
       "       [Timestamp('2045-03-24 00:00:00'), 'Tablet', 162.64, 9],\n",
       "       [Timestamp('2045-03-25 00:00:00'), 'Camera', 102.33, 5],\n",
       "       [Timestamp('2045-03-26 00:00:00'), 'Tablet', 90.49, 14],\n",
       "       [Timestamp('2045-03-27 00:00:00'), 'Phone', 184.38, 3],\n",
       "       [Timestamp('2045-03-28 00:00:00'), 'Phone', 114.21, 10],\n",
       "       [Timestamp('2045-03-29 00:00:00'), 'Tablet', 194.73, 1],\n",
       "       [Timestamp('2045-03-30 00:00:00'), 'Camera', 149.52, 13],\n",
       "       [Timestamp('2045-03-31 00:00:00'), 'Camera', 143.25, 4],\n",
       "       [Timestamp('2045-04-01 00:00:00'), 'Phone', 67.21, 9],\n",
       "       [Timestamp('2045-04-02 00:00:00'), 'Camera', 192.42, 2],\n",
       "       [Timestamp('2045-04-03 00:00:00'), 'Phone', 117.49, 11],\n",
       "       [Timestamp('2045-04-04 00:00:00'), 'Tablet', 136.76, 5],\n",
       "       [Timestamp('2045-04-05 00:00:00'), 'Camera', 111.22, 13],\n",
       "       [Timestamp('2045-04-06 00:00:00'), 'Camera', 85.55, 12],\n",
       "       [Timestamp('2045-04-07 00:00:00'), 'Tablet', 185.51, 4],\n",
       "       [Timestamp('2045-04-08 00:00:00'), 'Camera', 136.05, 4],\n",
       "       [Timestamp('2045-04-09 00:00:00'), 'Camera', 50.43, 12],\n",
       "       [Timestamp('2045-04-10 00:00:00'), 'Phone', 142.57, 11]],\n",
       "      dtype=object)"
      ]
     },
     "execution_count": 17,
     "metadata": {},
     "output_type": "execute_result"
    }
   ],
   "source": [
    "df.values"
   ]
  },
  {
   "cell_type": "markdown",
   "id": "bffb994c-88cb-4cff-b63d-748349476ba0",
   "metadata": {},
   "source": [
    "# **Grouping Data in DataFrames**"
   ]
  },
  {
   "cell_type": "code",
   "execution_count": 20,
   "id": "cccabe55-1ce2-4bd1-9126-fd0186b16a03",
   "metadata": {},
   "outputs": [
    {
     "data": {
      "text/plain": [
       "Product\n",
       "Camera    217\n",
       "Phone     294\n",
       "Tablet    240\n",
       "Name: Quantity, dtype: int64"
      ]
     },
     "execution_count": 20,
     "metadata": {},
     "output_type": "execute_result"
    }
   ],
   "source": [
    "product_sales = df.groupby('Product')['Quantity'].sum()\n",
    "product_sales"
   ]
  },
  {
   "cell_type": "code",
   "execution_count": 21,
   "id": "7258af99-9991-4b55-ac68-7dea88be4bc7",
   "metadata": {},
   "outputs": [
    {
     "data": {
      "text/plain": [
       "pandas.core.series.Series"
      ]
     },
     "execution_count": 21,
     "metadata": {},
     "output_type": "execute_result"
    }
   ],
   "source": [
    "type(product_sales)"
   ]
  },
  {
   "cell_type": "code",
   "execution_count": 22,
   "id": "c8f78dee-bff4-4167-b941-4d70784d5a5a",
   "metadata": {},
   "outputs": [
    {
     "data": {
      "text/plain": [
       "Product\n",
       "Camera    131.960357\n",
       "Phone     117.080270\n",
       "Tablet    121.750571\n",
       "Name: Price, dtype: float64"
      ]
     },
     "execution_count": 22,
     "metadata": {},
     "output_type": "execute_result"
    }
   ],
   "source": [
    "average_price = df.groupby('Product')['Price'].mean()\n",
    "average_price"
   ]
  },
  {
   "cell_type": "markdown",
   "id": "017670ea-9f77-4ca0-a9a2-1eb5dbf58281",
   "metadata": {},
   "source": [
    "# **Displaying Series Data On Plots Using Matplotlib**"
   ]
  },
  {
   "cell_type": "code",
   "execution_count": 24,
   "id": "ca9fa8e8-5fab-4e5b-aaa3-a3fcd98797f0",
   "metadata": {},
   "outputs": [
    {
     "data": {
      "text/plain": [
       "Index(['Camera', 'Phone', 'Tablet'], dtype='object', name='Product')"
      ]
     },
     "execution_count": 24,
     "metadata": {},
     "output_type": "execute_result"
    }
   ],
   "source": [
    "product_sales.index"
   ]
  },
  {
   "cell_type": "code",
   "execution_count": 26,
   "id": "d326d845-f6d3-41b4-8979-e236fd4fa069",
   "metadata": {},
   "outputs": [
    {
     "data": {
      "image/png": "[encoded data removed]",
      "text/plain": [
       "<Figure size 640x480 with 1 Axes>"
      ]
     },
     "metadata": {},
     "output_type": "display_data"
    }
   ],
   "source": [
    "plt.bar(product_sales.index, product_sales.values, color=['red', 'green', 'blue'])\n",
    "plt.title('Total Sales per Product')\n",
    "plt.xlabel('Product')\n",
    "plt.ylabel('Total Sales')\n",
    "plt.show()"
   ]
  },
  {
   "cell_type": "code",
   "execution_count": 29,
   "id": "d5ac7338-c4aa-4060-9616-9b52449a67e1",
   "metadata": {},
   "outputs": [
    {
     "data": {
      "image/png": "[encoded data removed]",
      "text/plain": [
       "<Figure size 640x480 with 1 Axes>"
      ]
     },
     "metadata": {},
     "output_type": "display_data"
    }
   ],
   "source": [
    "plt.plot(average_price.index, average_price.values)\n",
    "plt.title('Average Price per Product')\n",
    "plt.xlabel('Product')\n",
    "plt.ylabel('Average Price')\n",
    "plt.show()"
   ]
  },
  {
   "cell_type": "code",
   "execution_count": null,
   "id": "16cd1bb2-b1ed-428e-8b0e-051840841bcb",
   "metadata": {},
   "outputs": [],
   "source": []
  }
 ],
 "metadata": {
  "kernelspec": {
   "display_name": "Python 3 (ipykernel)",
   "language": "python",
   "name": "python3"
  },
  "language_info": {
   "codemirror_mode": {
    "name": "ipython",
    "version": 3
   },
   "file_extension": ".py",
   "mimetype": "text/x-python",
   "name": "python",
   "nbconvert_exporter": "python",
   "pygments_lexer": "ipython3",
   "version": "3.11.3"
  }
 },
 "nbformat": 4,
 "nbformat_minor": 5
}
